{
 "cells": [
  {
   "cell_type": "code",
   "execution_count": null,
   "metadata": {},
   "outputs": [],
   "source": [
    "import pickle\n",
    "import pandas as pd\n",
    "import matplotlib.pyplot as plt\n",
    "from sklearn.decomposition import PCA\n",
    "from sklearn.cluster import KMeans\n",
    "from sklearn.preprocessing import StandardScaler\n",
    "\n",
    "data = pd.read_csv(\"../data/Mall_Customers.csv\")"
   ]
  },
  {
   "cell_type": "code",
   "execution_count": null,
   "metadata": {},
   "outputs": [],
   "source": [
    "clusters = [2, 3, 4, 5, 6]\n",
    "\n",
    "data_numeric = data.drop([\"CustomerID\", \"Gender\"], axis=1)\n",
    "\n",
    "scaler = StandardScaler()\n",
    "data_scaled = scaler.fit_transform(data_numeric)\n",
    "\n",
    "pca = PCA(n_components=2)\n",
    "principal_components = pca.fit_transform(data_scaled)\n",
    "\n",
    "pca_df = pd.DataFrame(data=principal_components, columns=[\"PC1\", \"PC2\"])"
   ]
  },
  {
   "cell_type": "code",
   "execution_count": null,
   "metadata": {},
   "outputs": [],
   "source": [
    "for num_clusters in clusters:\n",
    "    kmeans = KMeans(n_clusters=num_clusters, random_state=42)\n",
    "    kmeans.fit(data_scaled)\n",
    "\n",
    "    pca_df[\"Cluster\"] = kmeans.labels_\n",
    "\n",
    "    plt.figure(figsize=(10, 6))\n",
    "    plt.scatter(\n",
    "        pca_df[\"PC1\"],\n",
    "        pca_df[\"PC2\"],\n",
    "        c=pca_df[\"Cluster\"],\n",
    "        cmap=\"viridis\",\n",
    "        edgecolor=\"k\",\n",
    "        s=100,\n",
    "    )\n",
    "    plt.title(f\"PCA Clustering with {num_clusters} clusters\")\n",
    "    plt.xlabel(\"Principal Component 1\")\n",
    "    plt.ylabel(\"Principal Component 2\")\n",
    "    plt.colorbar(label=\"Cluster\")\n",
    "    plt.grid(True)\n",
    "    plt.show()\n",
    "\n",
    "    centroids = scaler.inverse_transform(kmeans.cluster_centers_)\n",
    "    cluster_centroids_df = pd.DataFrame(\n",
    "        centroids, columns=data_numeric.columns)\n",
    "    print(\"Cluster Centroids:\")\n",
    "    print(cluster_centroids_df)\n",
    "\n",
    "    feature_names = data_numeric.columns\n",
    "\n",
    "    for i, component in enumerate(pca.components_):\n",
    "        print(f\" \\n Principal Component {i+1}:\")\n",
    "        for j, weight in enumerate(component):\n",
    "            print(f\"{feature_names[j]}: {weight}\")\n",
    "        print(\"\\n\")"
   ]
  },
  {
   "cell_type": "code",
   "execution_count": null,
   "metadata": {},
   "outputs": [],
   "source": [
    "with open(\"../models/pca.pkl\", \"wb\") as file:\n",
    "    pickle.dump(kmeans, file)"
   ]
  }
 ],
 "metadata": {
  "kernelspec": {
   "display_name": "iris",
   "language": "python",
   "name": "python3"
  },
  "language_info": {
   "codemirror_mode": {
    "name": "ipython",
    "version": 3
   },
   "file_extension": ".py",
   "mimetype": "text/x-python",
   "name": "python",
   "nbconvert_exporter": "python",
   "pygments_lexer": "ipython3",
   "version": "3.11.8"
  }
 },
 "nbformat": 4,
 "nbformat_minor": 2
}
