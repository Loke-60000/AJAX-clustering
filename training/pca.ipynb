{
 "cells": [
  {
   "cell_type": "code",
   "execution_count": null,
   "metadata": {},
   "outputs": [],
   "source": [
    "import pandas as pd\n",
    "import matplotlib.pyplot as plt\n",
    "from sklearn.decomposition import PCA\n",
    "from sklearn.cluster import KMeans\n",
    "from sklearn.preprocessing import StandardScaler\n",
    "import pickle"
   ]
  },
  {
   "cell_type": "code",
   "execution_count": null,
   "metadata": {},
   "outputs": [],
   "source": [
    "data = pd.read_csv(\"../data/Mall_Customers.csv\")\n",
    "clusters = [2, 3, 4, 5, 6]\n",
    "data_numeric = data.drop([\"CustomerID\", \"Gender\"], axis=1)"
   ]
  },
  {
   "cell_type": "code",
   "execution_count": null,
   "metadata": {},
   "outputs": [],
   "source": [
    "# Scale data\n",
    "scaler = StandardScaler()\n",
    "data_scaled = scaler.fit_transform(data_numeric)"
   ]
  },
  {
   "cell_type": "code",
   "execution_count": null,
   "metadata": {},
   "outputs": [],
   "source": [
    "# Train PCA\n",
    "pca = PCA(n_components=2)\n",
    "principal_components = pca.fit_transform(data_scaled)"
   ]
  },
  {
   "cell_type": "code",
   "execution_count": null,
   "metadata": {},
   "outputs": [],
   "source": [
    "# Save PCA Model\n",
    "with open(\"../models/pca.pkl\", \"wb\") as file:\n",
    "    pickle.dump(pca, file)"
   ]
  },
  {
   "cell_type": "code",
   "execution_count": null,
   "metadata": {},
   "outputs": [],
   "source": [
    "# Train KMeans models and visualize\n",
    "for num_clusters in clusters:\n",
    "    kmeans = KMeans(n_clusters=num_clusters, random_state=42)\n",
    "    kmeans.fit(data_scaled)\n",
    "\n",
    "    pca_df = pd.DataFrame(principal_components, columns=[\"PC1\", \"PC2\"])\n",
    "    pca_df[\"Cluster\"] = kmeans.labels_\n",
    "\n",
    "    plt.figure(figsize=(10, 6))\n",
    "    plt.scatter(\n",
    "        pca_df[\"PC1\"],\n",
    "        pca_df[\"PC2\"],\n",
    "        c=pca_df[\"Cluster\"],\n",
    "        cmap=\"viridis\",\n",
    "        edgecolor=\"k\",\n",
    "        s=100,\n",
    "    )\n",
    "    plt.title(f\"PCA Clustering with {num_clusters} Clusters\")\n",
    "    plt.xlabel(\"Principal Component 1\")\n",
    "    plt.ylabel(\"Principal Component 2\")\n",
    "    plt.colorbar(label=\"Cluster\")\n",
    "    plt.grid(True)\n",
    "    plt.show()"
   ]
  },
  {
   "cell_type": "code",
   "execution_count": null,
   "metadata": {},
   "outputs": [],
   "source": [
    "# Save the last KMeans model\n",
    "with open(\"../models/kmeans.pkl\", \"wb\") as file:\n",
    "    pickle.dump(kmeans, file)"
   ]
  }
 ],
 "metadata": {
  "kernelspec": {
   "display_name": "iris",
   "language": "python",
   "name": "python3"
  },
  "language_info": {
   "codemirror_mode": {
    "name": "ipython",
    "version": 3
   },
   "file_extension": ".py",
   "mimetype": "text/x-python",
   "name": "python",
   "nbconvert_exporter": "python",
   "pygments_lexer": "ipython3",
   "version": "3.11.8"
  }
 },
 "nbformat": 4,
 "nbformat_minor": 2
}
